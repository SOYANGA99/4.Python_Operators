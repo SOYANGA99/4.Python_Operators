{
 "cells": [
  {
   "cell_type": "markdown",
   "id": "f1e6d325",
   "metadata": {},
   "source": [
    "## PYTHON OPERATORS:-\n",
    "\n",
    "  1.Logical\n",
    "  2.Equality\n",
    "  3.Comparision\n",
    "  4.Arithmetic"
   ]
  },
  {
   "cell_type": "raw",
   "id": "d691e4bc",
   "metadata": {},
   "source": [
    "* Logical Operators:-\n",
    "In python following keywords are used for boolean operations:-\n",
    "    \n",
    "    and:- Conditional AND\n",
    "    or :- Conditional  OR\n",
    "    not:- Unary negation"
   ]
  },
  {
   "cell_type": "code",
   "execution_count": 2,
   "id": "96966568",
   "metadata": {},
   "outputs": [
    {
     "data": {
      "text/plain": [
       "bool"
      ]
     },
     "execution_count": 2,
     "metadata": {},
     "output_type": "execute_result"
    }
   ],
   "source": [
    "#Boolean Variable:-\n",
    "\n",
    "type(True)"
   ]
  },
  {
   "cell_type": "code",
   "execution_count": 4,
   "id": "6bc18f1e",
   "metadata": {},
   "outputs": [
    {
     "data": {
      "text/plain": [
       "bool"
      ]
     },
     "execution_count": 4,
     "metadata": {},
     "output_type": "execute_result"
    }
   ],
   "source": [
    "type(False)"
   ]
  },
  {
   "cell_type": "code",
   "execution_count": 5,
   "id": "92aefc65",
   "metadata": {},
   "outputs": [
    {
     "data": {
      "text/plain": [
       "True"
      ]
     },
     "execution_count": 5,
     "metadata": {},
     "output_type": "execute_result"
    }
   ],
   "source": [
    "bool(1)"
   ]
  },
  {
   "cell_type": "code",
   "execution_count": 6,
   "id": "27d0cec3",
   "metadata": {},
   "outputs": [],
   "source": [
    "a=True\n",
    "b=False"
   ]
  },
  {
   "cell_type": "code",
   "execution_count": 7,
   "id": "54344893",
   "metadata": {},
   "outputs": [
    {
     "data": {
      "text/plain": [
       "False"
      ]
     },
     "execution_count": 7,
     "metadata": {},
     "output_type": "execute_result"
    }
   ],
   "source": [
    "True and False"
   ]
  },
  {
   "cell_type": "code",
   "execution_count": 8,
   "id": "b768308b",
   "metadata": {},
   "outputs": [
    {
     "data": {
      "text/plain": [
       "True"
      ]
     },
     "execution_count": 8,
     "metadata": {},
     "output_type": "execute_result"
    }
   ],
   "source": [
    "True or False"
   ]
  },
  {
   "cell_type": "code",
   "execution_count": 9,
   "id": "b5758f65",
   "metadata": {},
   "outputs": [
    {
     "data": {
      "text/plain": [
       "False"
      ]
     },
     "execution_count": 9,
     "metadata": {},
     "output_type": "execute_result"
    }
   ],
   "source": [
    "not True "
   ]
  },
  {
   "cell_type": "code",
   "execution_count": 10,
   "id": "11ac8221",
   "metadata": {},
   "outputs": [
    {
     "data": {
      "text/plain": [
       "True"
      ]
     },
     "execution_count": 10,
     "metadata": {},
     "output_type": "execute_result"
    }
   ],
   "source": [
    "not False"
   ]
  },
  {
   "cell_type": "code",
   "execution_count": 11,
   "id": "f00844a6",
   "metadata": {},
   "outputs": [
    {
     "name": "stdout",
     "output_type": "stream",
     "text": [
      "Enter the age:-21\n",
      "Mid age\n"
     ]
    }
   ],
   "source": [
    "age=int(input(\"Enter the age:-\"))\n",
    "if age>18 and age<=35:\n",
    "    print(\"Mid age\")"
   ]
  },
  {
   "cell_type": "code",
   "execution_count": 13,
   "id": "ddd2f487",
   "metadata": {},
   "outputs": [
    {
     "name": "stdout",
     "output_type": "stream",
     "text": [
      "Enter the age:-16\n",
      "Successful execution\n"
     ]
    }
   ],
   "source": [
    "age=int(input(\"Enter the age:-\"))\n",
    "if age<18 or age>=35:\n",
    "    print(\"Successful execution\")"
   ]
  },
  {
   "cell_type": "markdown",
   "id": "2ee29a06",
   "metadata": {},
   "source": [
    "# Equality Operators:-\n",
    "\n",
    "(1)is:-a is b returns true if variable / identifiers a and b points to the same object.\n",
    "(2)is not:- a is not b returns true if variable/ identifiers a and b to the different object.\n",
    "(3)== :- a==b returns true if variable/ identifiers a and b has same value.\n",
    " (4)!= :- a!=b returns true if variable / identifiers a and b has different value.   \n",
    "    \n",
    "\n",
    "\n"
   ]
  },
  {
   "cell_type": "code",
   "execution_count": 21,
   "id": "4ed8cdd8",
   "metadata": {},
   "outputs": [
    {
     "data": {
      "text/plain": [
       "True"
      ]
     },
     "execution_count": 21,
     "metadata": {},
     "output_type": "execute_result"
    }
   ],
   "source": [
    "# Double Equal(==) codition:-\n",
    "\n",
    "a=\"silan\"\n",
    "b=\"silan\"\n",
    "\n",
    "a==b\n"
   ]
  },
  {
   "cell_type": "code",
   "execution_count": 7,
   "id": "b8062733",
   "metadata": {},
   "outputs": [
    {
     "name": "stdout",
     "output_type": "stream",
     "text": [
      "True\n",
      "False\n"
     ]
    }
   ],
   "source": [
    "# is Operator codition:-\n",
    "#[is operator points to the objects that they are same or not , if same then it'll give true , otherwise False]\n",
    "\n",
    "a=\"silan\"\n",
    "b=\"silan\"\n",
    "\n",
    "print(a is b)\n",
    "print(a is not b)"
   ]
  },
  {
   "cell_type": "code",
   "execution_count": 22,
   "id": "ed5c8bd8",
   "metadata": {},
   "outputs": [
    {
     "data": {
      "text/plain": [
       "False"
      ]
     },
     "execution_count": 22,
     "metadata": {},
     "output_type": "execute_result"
    }
   ],
   "source": [
    "a=\"silan\"\n",
    "b=\"silan1\"\n",
    "\n",
    "a==b\n"
   ]
  },
  {
   "cell_type": "code",
   "execution_count": 4,
   "id": "b5eaebe0",
   "metadata": {},
   "outputs": [
    {
     "data": {
      "text/plain": [
       "True"
      ]
     },
     "execution_count": 4,
     "metadata": {},
     "output_type": "execute_result"
    }
   ],
   "source": [
    "a=\"silan\"\n",
    "b=\"silan1\"\n",
    "\n",
    "a is not b\n"
   ]
  },
  {
   "cell_type": "code",
   "execution_count": 23,
   "id": "c547b6b8",
   "metadata": {},
   "outputs": [
    {
     "name": "stdout",
     "output_type": "stream",
     "text": [
      "Enter the age:-18\n",
      "You are in the teenager age\n"
     ]
    }
   ],
   "source": [
    "age=int(input(\"Enter the age:-\"))\n",
    "if age==18:\n",
    "    print(\"You are in the teenager age\")"
   ]
  },
  {
   "cell_type": "code",
   "execution_count": 25,
   "id": "a997381e",
   "metadata": {},
   "outputs": [
    {
     "name": "stdout",
     "output_type": "stream",
     "text": [
      "1373430416944\n",
      "1373430416944\n"
     ]
    }
   ],
   "source": [
    "# Is Condition:-\n",
    "\n",
    "a=\"silan\"\n",
    "b= \"silan\"\n",
    "print(id(a)) # Id represent That object has created in which memory.\n",
    "print(id(b))"
   ]
  },
  {
   "cell_type": "code",
   "execution_count": 26,
   "id": "fc86c316",
   "metadata": {},
   "outputs": [
    {
     "data": {
      "text/plain": [
       "True"
      ]
     },
     "execution_count": 26,
     "metadata": {},
     "output_type": "execute_result"
    }
   ],
   "source": [
    "a is b"
   ]
  },
  {
   "cell_type": "code",
   "execution_count": 29,
   "id": "d9f66a5d",
   "metadata": {},
   "outputs": [
    {
     "name": "stdout",
     "output_type": "stream",
     "text": [
      "1373429499776\n",
      "1373429514624\n"
     ]
    }
   ],
   "source": [
    "# when we r making some collection type items(list) in that case the ID'll be different, bcoz the objects create in differently even though their values are same:-\n",
    "lst=[1,2,3]\n",
    "lst1=[1,2,3]\n",
    "print(id(lst))\n",
    "print(id(lst1))"
   ]
  },
  {
   "cell_type": "code",
   "execution_count": 33,
   "id": "aca6c7f5",
   "metadata": {},
   "outputs": [
    {
     "data": {
      "text/plain": [
       "True"
      ]
     },
     "execution_count": 33,
     "metadata": {},
     "output_type": "execute_result"
    }
   ],
   "source": [
    "lst==lst1\n",
    "#Here the (==)operator comparing both of list's so it'll give true."
   ]
  },
  {
   "cell_type": "code",
   "execution_count": 34,
   "id": "e6710898",
   "metadata": {},
   "outputs": [
    {
     "data": {
      "text/plain": [
       "False"
      ]
     },
     "execution_count": 34,
     "metadata": {},
     "output_type": "execute_result"
    }
   ],
   "source": [
    "lst is lst1\n",
    "# In this case (is)operator pointing to the objects that, they are in the same or not.\n",
    "# If no then it'll give false"
   ]
  },
  {
   "cell_type": "code",
   "execution_count": 36,
   "id": "c6248786",
   "metadata": {},
   "outputs": [
    {
     "data": {
      "text/plain": [
       "False"
      ]
     },
     "execution_count": 36,
     "metadata": {},
     "output_type": "execute_result"
    }
   ],
   "source": [
    "# Is not operator:-(Opposite of the is operator)\n",
    "lst is not lst"
   ]
  },
  {
   "cell_type": "code",
   "execution_count": 39,
   "id": "405b3c8d",
   "metadata": {},
   "outputs": [
    {
     "data": {
      "text/plain": [
       "True"
      ]
     },
     "execution_count": 39,
     "metadata": {},
     "output_type": "execute_result"
    }
   ],
   "source": [
    "# Not Equal(!=):-\n",
    "\"silan\" !=\"silan1\""
   ]
  },
  {
   "cell_type": "markdown",
   "id": "85a287bb",
   "metadata": {},
   "source": [
    "# Comparison operator:-\n",
    "\n",
    " <, <=, >, >=\n",
    "\n"
   ]
  },
  {
   "cell_type": "code",
   "execution_count": 41,
   "id": "7ace3d4d",
   "metadata": {},
   "outputs": [
    {
     "name": "stdout",
     "output_type": "stream",
     "text": [
      "Enter teh marks:-60\n",
      "first\n"
     ]
    }
   ],
   "source": [
    "marks=float(input(\"Enter teh marks:-\"))\n",
    "if marks>=50 and marks<=70:\n",
    "    print(\"first\")\n",
    "elif marks>=35:\n",
    "    print(\"Pass\")\n",
    "elif marks<35:\n",
    "    print(\"Fail\")"
   ]
  },
  {
   "cell_type": "markdown",
   "id": "24ac15db",
   "metadata": {},
   "source": [
    "# Arithmetic operator:-\n",
    "\n",
    "    + , - , * , / , // , %"
   ]
  },
  {
   "cell_type": "code",
   "execution_count": 42,
   "id": "05774946",
   "metadata": {},
   "outputs": [
    {
     "data": {
      "text/plain": [
       "48"
      ]
     },
     "execution_count": 42,
     "metadata": {},
     "output_type": "execute_result"
    }
   ],
   "source": [
    "24+24"
   ]
  },
  {
   "cell_type": "code",
   "execution_count": 43,
   "id": "98f0da86",
   "metadata": {},
   "outputs": [
    {
     "data": {
      "text/plain": [
       "24"
      ]
     },
     "execution_count": 43,
     "metadata": {},
     "output_type": "execute_result"
    }
   ],
   "source": [
    "48-24"
   ]
  },
  {
   "cell_type": "code",
   "execution_count": 44,
   "id": "1f969857",
   "metadata": {},
   "outputs": [
    {
     "data": {
      "text/plain": [
       "1152"
      ]
     },
     "execution_count": 44,
     "metadata": {},
     "output_type": "execute_result"
    }
   ],
   "source": [
    "48*24"
   ]
  },
  {
   "cell_type": "code",
   "execution_count": 45,
   "id": "3500c624",
   "metadata": {},
   "outputs": [
    {
     "data": {
      "text/plain": [
       "12.0"
      ]
     },
     "execution_count": 45,
     "metadata": {},
     "output_type": "execute_result"
    }
   ],
   "source": [
    "48/4"
   ]
  },
  {
   "cell_type": "code",
   "execution_count": 46,
   "id": "069a1883",
   "metadata": {},
   "outputs": [
    {
     "data": {
      "text/plain": [
       "24"
      ]
     },
     "execution_count": 46,
     "metadata": {},
     "output_type": "execute_result"
    }
   ],
   "source": [
    "48//2"
   ]
  },
  {
   "cell_type": "code",
   "execution_count": 48,
   "id": "da666c2b",
   "metadata": {},
   "outputs": [
    {
     "data": {
      "text/plain": [
       "9"
      ]
     },
     "execution_count": 48,
     "metadata": {},
     "output_type": "execute_result"
    }
   ],
   "source": [
    "48//5 # It(//) gives roundof value of the result"
   ]
  },
  {
   "cell_type": "code",
   "execution_count": 50,
   "id": "57ca8540",
   "metadata": {},
   "outputs": [
    {
     "data": {
      "text/plain": [
       "0"
      ]
     },
     "execution_count": 50,
     "metadata": {},
     "output_type": "execute_result"
    }
   ],
   "source": [
    "48%2 # The % operator shows the remainder"
   ]
  },
  {
   "cell_type": "code",
   "execution_count": null,
   "id": "8b10a102",
   "metadata": {},
   "outputs": [],
   "source": []
  }
 ],
 "metadata": {
  "kernelspec": {
   "display_name": "Python 3 (ipykernel)",
   "language": "python",
   "name": "python3"
  },
  "language_info": {
   "codemirror_mode": {
    "name": "ipython",
    "version": 3
   },
   "file_extension": ".py",
   "mimetype": "text/x-python",
   "name": "python",
   "nbconvert_exporter": "python",
   "pygments_lexer": "ipython3",
   "version": "3.9.13"
  }
 },
 "nbformat": 4,
 "nbformat_minor": 5
}
